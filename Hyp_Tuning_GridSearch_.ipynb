{
  "nbformat": 4,
  "nbformat_minor": 0,
  "metadata": {
    "colab": {
      "provenance": []
    },
    "kernelspec": {
      "name": "python3",
      "display_name": "Python 3"
    },
    "language_info": {
      "name": "python"
    }
  },
  "cells": [
    {
      "cell_type": "code",
      "execution_count": 21,
      "metadata": {
        "id": "yE9e7vNId4CU"
      },
      "outputs": [],
      "source": [
        "import numpy as np\n",
        "import pandas as pd\n",
        "import matplotlib.pyplot as plt\n",
        "import seaborn as sns\n",
        "\n"
      ]
    },
    {
      "cell_type": "code",
      "source": [
        "### Create a Random Dataset with Sklearn\n",
        "\n",
        "from sklearn.datasets import make_classification\n",
        "\n",
        "X,y =make_classification(n_samples = 1000, n_features = 10,n_informative = 3,  n_classes = 2, random_state = 42)"
      ],
      "metadata": {
        "id": "0Nov53G_egLk"
      },
      "execution_count": 22,
      "outputs": []
    },
    {
      "cell_type": "code",
      "source": [
        "X = pd.DataFrame(X)\n",
        "X.head()\n"
      ],
      "metadata": {
        "colab": {
          "base_uri": "https://localhost:8080/",
          "height": 206
        },
        "id": "T59oEfq7lEjD",
        "outputId": "594cb654-0df1-42ce-cac9-8cbdf7a96e20"
      },
      "execution_count": 23,
      "outputs": [
        {
          "output_type": "execute_result",
          "data": {
            "text/plain": [
              "          0         1         2         3         4         5         6  \\\n",
              "0 -1.408059  0.898360  1.577889 -1.499181 -0.323898  0.248532 -1.544936   \n",
              "1  1.136616  0.264290 -0.854044  0.855202  0.780613  0.788868 -1.525572   \n",
              "2 -0.990615 -0.265605  0.848414 -0.170258  0.594419  0.685745 -0.650660   \n",
              "3 -1.194565 -0.181503  4.061466 -0.995148 -1.759389  1.854545  0.321679   \n",
              "4  2.917665 -0.630458 -3.711618 -0.380456  2.152247  0.438626  2.159121   \n",
              "\n",
              "          7         8         9  \n",
              "0 -1.981964  1.124777  0.148810  \n",
              "1 -1.154163  1.313782  0.326078  \n",
              "2 -2.090303 -0.399878  0.573126  \n",
              "3  0.168060 -2.177065 -0.140595  \n",
              "4  0.091315  1.637082  0.542914  "
            ],
            "text/html": [
              "\n",
              "  <div id=\"df-418668df-6f76-4068-a911-c23e99865803\" class=\"colab-df-container\">\n",
              "    <div>\n",
              "<style scoped>\n",
              "    .dataframe tbody tr th:only-of-type {\n",
              "        vertical-align: middle;\n",
              "    }\n",
              "\n",
              "    .dataframe tbody tr th {\n",
              "        vertical-align: top;\n",
              "    }\n",
              "\n",
              "    .dataframe thead th {\n",
              "        text-align: right;\n",
              "    }\n",
              "</style>\n",
              "<table border=\"1\" class=\"dataframe\">\n",
              "  <thead>\n",
              "    <tr style=\"text-align: right;\">\n",
              "      <th></th>\n",
              "      <th>0</th>\n",
              "      <th>1</th>\n",
              "      <th>2</th>\n",
              "      <th>3</th>\n",
              "      <th>4</th>\n",
              "      <th>5</th>\n",
              "      <th>6</th>\n",
              "      <th>7</th>\n",
              "      <th>8</th>\n",
              "      <th>9</th>\n",
              "    </tr>\n",
              "  </thead>\n",
              "  <tbody>\n",
              "    <tr>\n",
              "      <th>0</th>\n",
              "      <td>-1.408059</td>\n",
              "      <td>0.898360</td>\n",
              "      <td>1.577889</td>\n",
              "      <td>-1.499181</td>\n",
              "      <td>-0.323898</td>\n",
              "      <td>0.248532</td>\n",
              "      <td>-1.544936</td>\n",
              "      <td>-1.981964</td>\n",
              "      <td>1.124777</td>\n",
              "      <td>0.148810</td>\n",
              "    </tr>\n",
              "    <tr>\n",
              "      <th>1</th>\n",
              "      <td>1.136616</td>\n",
              "      <td>0.264290</td>\n",
              "      <td>-0.854044</td>\n",
              "      <td>0.855202</td>\n",
              "      <td>0.780613</td>\n",
              "      <td>0.788868</td>\n",
              "      <td>-1.525572</td>\n",
              "      <td>-1.154163</td>\n",
              "      <td>1.313782</td>\n",
              "      <td>0.326078</td>\n",
              "    </tr>\n",
              "    <tr>\n",
              "      <th>2</th>\n",
              "      <td>-0.990615</td>\n",
              "      <td>-0.265605</td>\n",
              "      <td>0.848414</td>\n",
              "      <td>-0.170258</td>\n",
              "      <td>0.594419</td>\n",
              "      <td>0.685745</td>\n",
              "      <td>-0.650660</td>\n",
              "      <td>-2.090303</td>\n",
              "      <td>-0.399878</td>\n",
              "      <td>0.573126</td>\n",
              "    </tr>\n",
              "    <tr>\n",
              "      <th>3</th>\n",
              "      <td>-1.194565</td>\n",
              "      <td>-0.181503</td>\n",
              "      <td>4.061466</td>\n",
              "      <td>-0.995148</td>\n",
              "      <td>-1.759389</td>\n",
              "      <td>1.854545</td>\n",
              "      <td>0.321679</td>\n",
              "      <td>0.168060</td>\n",
              "      <td>-2.177065</td>\n",
              "      <td>-0.140595</td>\n",
              "    </tr>\n",
              "    <tr>\n",
              "      <th>4</th>\n",
              "      <td>2.917665</td>\n",
              "      <td>-0.630458</td>\n",
              "      <td>-3.711618</td>\n",
              "      <td>-0.380456</td>\n",
              "      <td>2.152247</td>\n",
              "      <td>0.438626</td>\n",
              "      <td>2.159121</td>\n",
              "      <td>0.091315</td>\n",
              "      <td>1.637082</td>\n",
              "      <td>0.542914</td>\n",
              "    </tr>\n",
              "  </tbody>\n",
              "</table>\n",
              "</div>\n",
              "    <div class=\"colab-df-buttons\">\n",
              "\n",
              "  <div class=\"colab-df-container\">\n",
              "    <button class=\"colab-df-convert\" onclick=\"convertToInteractive('df-418668df-6f76-4068-a911-c23e99865803')\"\n",
              "            title=\"Convert this dataframe to an interactive table.\"\n",
              "            style=\"display:none;\">\n",
              "\n",
              "  <svg xmlns=\"http://www.w3.org/2000/svg\" height=\"24px\" viewBox=\"0 -960 960 960\">\n",
              "    <path d=\"M120-120v-720h720v720H120Zm60-500h600v-160H180v160Zm220 220h160v-160H400v160Zm0 220h160v-160H400v160ZM180-400h160v-160H180v160Zm440 0h160v-160H620v160ZM180-180h160v-160H180v160Zm440 0h160v-160H620v160Z\"/>\n",
              "  </svg>\n",
              "    </button>\n",
              "\n",
              "  <style>\n",
              "    .colab-df-container {\n",
              "      display:flex;\n",
              "      gap: 12px;\n",
              "    }\n",
              "\n",
              "    .colab-df-convert {\n",
              "      background-color: #E8F0FE;\n",
              "      border: none;\n",
              "      border-radius: 50%;\n",
              "      cursor: pointer;\n",
              "      display: none;\n",
              "      fill: #1967D2;\n",
              "      height: 32px;\n",
              "      padding: 0 0 0 0;\n",
              "      width: 32px;\n",
              "    }\n",
              "\n",
              "    .colab-df-convert:hover {\n",
              "      background-color: #E2EBFA;\n",
              "      box-shadow: 0px 1px 2px rgba(60, 64, 67, 0.3), 0px 1px 3px 1px rgba(60, 64, 67, 0.15);\n",
              "      fill: #174EA6;\n",
              "    }\n",
              "\n",
              "    .colab-df-buttons div {\n",
              "      margin-bottom: 4px;\n",
              "    }\n",
              "\n",
              "    [theme=dark] .colab-df-convert {\n",
              "      background-color: #3B4455;\n",
              "      fill: #D2E3FC;\n",
              "    }\n",
              "\n",
              "    [theme=dark] .colab-df-convert:hover {\n",
              "      background-color: #434B5C;\n",
              "      box-shadow: 0px 1px 3px 1px rgba(0, 0, 0, 0.15);\n",
              "      filter: drop-shadow(0px 1px 2px rgba(0, 0, 0, 0.3));\n",
              "      fill: #FFFFFF;\n",
              "    }\n",
              "  </style>\n",
              "\n",
              "    <script>\n",
              "      const buttonEl =\n",
              "        document.querySelector('#df-418668df-6f76-4068-a911-c23e99865803 button.colab-df-convert');\n",
              "      buttonEl.style.display =\n",
              "        google.colab.kernel.accessAllowed ? 'block' : 'none';\n",
              "\n",
              "      async function convertToInteractive(key) {\n",
              "        const element = document.querySelector('#df-418668df-6f76-4068-a911-c23e99865803');\n",
              "        const dataTable =\n",
              "          await google.colab.kernel.invokeFunction('convertToInteractive',\n",
              "                                                    [key], {});\n",
              "        if (!dataTable) return;\n",
              "\n",
              "        const docLinkHtml = 'Like what you see? Visit the ' +\n",
              "          '<a target=\"_blank\" href=https://colab.research.google.com/notebooks/data_table.ipynb>data table notebook</a>'\n",
              "          + ' to learn more about interactive tables.';\n",
              "        element.innerHTML = '';\n",
              "        dataTable['output_type'] = 'display_data';\n",
              "        await google.colab.output.renderOutput(dataTable, element);\n",
              "        const docLink = document.createElement('div');\n",
              "        docLink.innerHTML = docLinkHtml;\n",
              "        element.appendChild(docLink);\n",
              "      }\n",
              "    </script>\n",
              "  </div>\n",
              "\n",
              "\n",
              "<div id=\"df-02a0addc-e363-4a9f-a89c-a325935049dd\">\n",
              "  <button class=\"colab-df-quickchart\" onclick=\"quickchart('df-02a0addc-e363-4a9f-a89c-a325935049dd')\"\n",
              "            title=\"Suggest charts\"\n",
              "            style=\"display:none;\">\n",
              "\n",
              "<svg xmlns=\"http://www.w3.org/2000/svg\" height=\"24px\"viewBox=\"0 0 24 24\"\n",
              "     width=\"24px\">\n",
              "    <g>\n",
              "        <path d=\"M19 3H5c-1.1 0-2 .9-2 2v14c0 1.1.9 2 2 2h14c1.1 0 2-.9 2-2V5c0-1.1-.9-2-2-2zM9 17H7v-7h2v7zm4 0h-2V7h2v10zm4 0h-2v-4h2v4z\"/>\n",
              "    </g>\n",
              "</svg>\n",
              "  </button>\n",
              "\n",
              "<style>\n",
              "  .colab-df-quickchart {\n",
              "      --bg-color: #E8F0FE;\n",
              "      --fill-color: #1967D2;\n",
              "      --hover-bg-color: #E2EBFA;\n",
              "      --hover-fill-color: #174EA6;\n",
              "      --disabled-fill-color: #AAA;\n",
              "      --disabled-bg-color: #DDD;\n",
              "  }\n",
              "\n",
              "  [theme=dark] .colab-df-quickchart {\n",
              "      --bg-color: #3B4455;\n",
              "      --fill-color: #D2E3FC;\n",
              "      --hover-bg-color: #434B5C;\n",
              "      --hover-fill-color: #FFFFFF;\n",
              "      --disabled-bg-color: #3B4455;\n",
              "      --disabled-fill-color: #666;\n",
              "  }\n",
              "\n",
              "  .colab-df-quickchart {\n",
              "    background-color: var(--bg-color);\n",
              "    border: none;\n",
              "    border-radius: 50%;\n",
              "    cursor: pointer;\n",
              "    display: none;\n",
              "    fill: var(--fill-color);\n",
              "    height: 32px;\n",
              "    padding: 0;\n",
              "    width: 32px;\n",
              "  }\n",
              "\n",
              "  .colab-df-quickchart:hover {\n",
              "    background-color: var(--hover-bg-color);\n",
              "    box-shadow: 0 1px 2px rgba(60, 64, 67, 0.3), 0 1px 3px 1px rgba(60, 64, 67, 0.15);\n",
              "    fill: var(--button-hover-fill-color);\n",
              "  }\n",
              "\n",
              "  .colab-df-quickchart-complete:disabled,\n",
              "  .colab-df-quickchart-complete:disabled:hover {\n",
              "    background-color: var(--disabled-bg-color);\n",
              "    fill: var(--disabled-fill-color);\n",
              "    box-shadow: none;\n",
              "  }\n",
              "\n",
              "  .colab-df-spinner {\n",
              "    border: 2px solid var(--fill-color);\n",
              "    border-color: transparent;\n",
              "    border-bottom-color: var(--fill-color);\n",
              "    animation:\n",
              "      spin 1s steps(1) infinite;\n",
              "  }\n",
              "\n",
              "  @keyframes spin {\n",
              "    0% {\n",
              "      border-color: transparent;\n",
              "      border-bottom-color: var(--fill-color);\n",
              "      border-left-color: var(--fill-color);\n",
              "    }\n",
              "    20% {\n",
              "      border-color: transparent;\n",
              "      border-left-color: var(--fill-color);\n",
              "      border-top-color: var(--fill-color);\n",
              "    }\n",
              "    30% {\n",
              "      border-color: transparent;\n",
              "      border-left-color: var(--fill-color);\n",
              "      border-top-color: var(--fill-color);\n",
              "      border-right-color: var(--fill-color);\n",
              "    }\n",
              "    40% {\n",
              "      border-color: transparent;\n",
              "      border-right-color: var(--fill-color);\n",
              "      border-top-color: var(--fill-color);\n",
              "    }\n",
              "    60% {\n",
              "      border-color: transparent;\n",
              "      border-right-color: var(--fill-color);\n",
              "    }\n",
              "    80% {\n",
              "      border-color: transparent;\n",
              "      border-right-color: var(--fill-color);\n",
              "      border-bottom-color: var(--fill-color);\n",
              "    }\n",
              "    90% {\n",
              "      border-color: transparent;\n",
              "      border-bottom-color: var(--fill-color);\n",
              "    }\n",
              "  }\n",
              "</style>\n",
              "\n",
              "  <script>\n",
              "    async function quickchart(key) {\n",
              "      const quickchartButtonEl =\n",
              "        document.querySelector('#' + key + ' button');\n",
              "      quickchartButtonEl.disabled = true;  // To prevent multiple clicks.\n",
              "      quickchartButtonEl.classList.add('colab-df-spinner');\n",
              "      try {\n",
              "        const charts = await google.colab.kernel.invokeFunction(\n",
              "            'suggestCharts', [key], {});\n",
              "      } catch (error) {\n",
              "        console.error('Error during call to suggestCharts:', error);\n",
              "      }\n",
              "      quickchartButtonEl.classList.remove('colab-df-spinner');\n",
              "      quickchartButtonEl.classList.add('colab-df-quickchart-complete');\n",
              "    }\n",
              "    (() => {\n",
              "      let quickchartButtonEl =\n",
              "        document.querySelector('#df-02a0addc-e363-4a9f-a89c-a325935049dd button');\n",
              "      quickchartButtonEl.style.display =\n",
              "        google.colab.kernel.accessAllowed ? 'block' : 'none';\n",
              "    })();\n",
              "  </script>\n",
              "</div>\n",
              "\n",
              "    </div>\n",
              "  </div>\n"
            ],
            "application/vnd.google.colaboratory.intrinsic+json": {
              "type": "dataframe",
              "variable_name": "X",
              "summary": "{\n  \"name\": \"X\",\n  \"rows\": 1000,\n  \"fields\": [\n    {\n      \"column\": 0,\n      \"properties\": {\n        \"dtype\": \"number\",\n        \"std\": 1.2498262499471284,\n        \"min\": -3.8372309849105672,\n        \"max\": 4.619524488223686,\n        \"num_unique_values\": 1000,\n        \"samples\": [\n          0.9363162665630117,\n          -1.362863183281188,\n          1.5972176243146654\n        ],\n        \"semantic_type\": \"\",\n        \"description\": \"\"\n      }\n    },\n    {\n      \"column\": 1,\n      \"properties\": {\n        \"dtype\": \"number\",\n        \"std\": 1.0329856739582577,\n        \"min\": -3.2210163559857135,\n        \"max\": 3.0768603701805035,\n        \"num_unique_values\": 1000,\n        \"samples\": [\n          1.1166812750675223,\n          1.9351540400602292,\n          -1.754284852822499\n        ],\n        \"semantic_type\": \"\",\n        \"description\": \"\"\n      }\n    },\n    {\n      \"column\": 2,\n      \"properties\": {\n        \"dtype\": \"number\",\n        \"std\": 1.6906599304366599,\n        \"min\": -5.639528707981433,\n        \"max\": 5.585086121171739,\n        \"num_unique_values\": 1000,\n        \"samples\": [\n          0.1375156007687023,\n          2.785901981412091,\n          -2.867508663463034\n        ],\n        \"semantic_type\": \"\",\n        \"description\": \"\"\n      }\n    },\n    {\n      \"column\": 3,\n      \"properties\": {\n        \"dtype\": \"number\",\n        \"std\": 0.982256826535759,\n        \"min\": -3.1767038131960006,\n        \"max\": 2.9356579023277782,\n        \"num_unique_values\": 1000,\n        \"samples\": [\n          0.09715578708624777,\n          0.5114995753618614,\n          -0.9980946277690352\n        ],\n        \"semantic_type\": \"\",\n        \"description\": \"\"\n      }\n    },\n    {\n      \"column\": 4,\n      \"properties\": {\n        \"dtype\": \"number\",\n        \"std\": 1.1986260794234793,\n        \"min\": -3.9505957101665934,\n        \"max\": 2.8608595152263874,\n        \"num_unique_values\": 1000,\n        \"samples\": [\n          0.5202652269602357,\n          -0.2637340531007698,\n          1.5734925081493716\n        ],\n        \"semantic_type\": \"\",\n        \"description\": \"\"\n      }\n    },\n    {\n      \"column\": 5,\n      \"properties\": {\n        \"dtype\": \"number\",\n        \"std\": 1.2845588848767746,\n        \"min\": -3.7789777637500914,\n        \"max\": 3.8411878958896293,\n        \"num_unique_values\": 1000,\n        \"samples\": [\n          1.4880601234756785,\n          1.7247812006311467,\n          -0.3237426207100498\n        ],\n        \"semantic_type\": \"\",\n        \"description\": \"\"\n      }\n    },\n    {\n      \"column\": 6,\n      \"properties\": {\n        \"dtype\": \"number\",\n        \"std\": 1.0392932233970795,\n        \"min\": -3.601085104459518,\n        \"max\": 3.152056734512085,\n        \"num_unique_values\": 1000,\n        \"samples\": [\n          1.8060891178369614,\n          0.4961991873633163,\n          -1.464974746104889\n        ],\n        \"semantic_type\": \"\",\n        \"description\": \"\"\n      }\n    },\n    {\n      \"column\": 7,\n      \"properties\": {\n        \"dtype\": \"number\",\n        \"std\": 1.0129008310736702,\n        \"min\": -3.007632339693757,\n        \"max\": 3.1176811292080475,\n        \"num_unique_values\": 1000,\n        \"samples\": [\n          2.666905222320009,\n          -0.535316712567659,\n          -0.6684549108531777\n        ],\n        \"semantic_type\": \"\",\n        \"description\": \"\"\n      }\n    },\n    {\n      \"column\": 8,\n      \"properties\": {\n        \"dtype\": \"number\",\n        \"std\": 1.031368480189796,\n        \"min\": -3.688365291428444,\n        \"max\": 3.529055187570484,\n        \"num_unique_values\": 1000,\n        \"samples\": [\n          0.2320946379285372,\n          0.8155010224442626,\n          0.09452756758846836\n        ],\n        \"semantic_type\": \"\",\n        \"description\": \"\"\n      }\n    },\n    {\n      \"column\": 9,\n      \"properties\": {\n        \"dtype\": \"number\",\n        \"std\": 0.670450982588754,\n        \"min\": -2.6967587534948834,\n        \"max\": 1.852260214332049,\n        \"num_unique_values\": 1000,\n        \"samples\": [\n          0.40497183194803477,\n          0.5002380095991555,\n          0.3397842536788818\n        ],\n        \"semantic_type\": \"\",\n        \"description\": \"\"\n      }\n    }\n  ]\n}"
            }
          },
          "metadata": {},
          "execution_count": 23
        }
      ]
    },
    {
      "cell_type": "code",
      "source": [
        "from sklearn.model_selection import train_test_split\n",
        "X_train,X_test,y_train,y_test = train_test_split(X,y , test_size = 0.3, random_state = 42)"
      ],
      "metadata": {
        "id": "xBTajrgglRLo"
      },
      "execution_count": 24,
      "outputs": []
    },
    {
      "cell_type": "code",
      "source": [
        "X_train.shape"
      ],
      "metadata": {
        "colab": {
          "base_uri": "https://localhost:8080/"
        },
        "id": "VH9PNKhdl6Zx",
        "outputId": "e2e86db7-9ea5-432c-9291-82184951d64c"
      },
      "execution_count": 25,
      "outputs": [
        {
          "output_type": "execute_result",
          "data": {
            "text/plain": [
              "(700, 10)"
            ]
          },
          "metadata": {},
          "execution_count": 25
        }
      ]
    },
    {
      "cell_type": "code",
      "source": [
        "from sklearn.linear_model import LogisticRegression\n",
        "logistic_model = LogisticRegression()\n",
        "logistic_model.fit(X_train,y_train)"
      ],
      "metadata": {
        "colab": {
          "base_uri": "https://localhost:8080/",
          "height": 74
        },
        "id": "38xnKAerm9e3",
        "outputId": "b8328038-e985-4a17-ae04-1333741083b0"
      },
      "execution_count": 26,
      "outputs": [
        {
          "output_type": "execute_result",
          "data": {
            "text/plain": [
              "LogisticRegression()"
            ],
            "text/html": [
              "<style>#sk-container-id-1 {color: black;background-color: white;}#sk-container-id-1 pre{padding: 0;}#sk-container-id-1 div.sk-toggleable {background-color: white;}#sk-container-id-1 label.sk-toggleable__label {cursor: pointer;display: block;width: 100%;margin-bottom: 0;padding: 0.3em;box-sizing: border-box;text-align: center;}#sk-container-id-1 label.sk-toggleable__label-arrow:before {content: \"▸\";float: left;margin-right: 0.25em;color: #696969;}#sk-container-id-1 label.sk-toggleable__label-arrow:hover:before {color: black;}#sk-container-id-1 div.sk-estimator:hover label.sk-toggleable__label-arrow:before {color: black;}#sk-container-id-1 div.sk-toggleable__content {max-height: 0;max-width: 0;overflow: hidden;text-align: left;background-color: #f0f8ff;}#sk-container-id-1 div.sk-toggleable__content pre {margin: 0.2em;color: black;border-radius: 0.25em;background-color: #f0f8ff;}#sk-container-id-1 input.sk-toggleable__control:checked~div.sk-toggleable__content {max-height: 200px;max-width: 100%;overflow: auto;}#sk-container-id-1 input.sk-toggleable__control:checked~label.sk-toggleable__label-arrow:before {content: \"▾\";}#sk-container-id-1 div.sk-estimator input.sk-toggleable__control:checked~label.sk-toggleable__label {background-color: #d4ebff;}#sk-container-id-1 div.sk-label input.sk-toggleable__control:checked~label.sk-toggleable__label {background-color: #d4ebff;}#sk-container-id-1 input.sk-hidden--visually {border: 0;clip: rect(1px 1px 1px 1px);clip: rect(1px, 1px, 1px, 1px);height: 1px;margin: -1px;overflow: hidden;padding: 0;position: absolute;width: 1px;}#sk-container-id-1 div.sk-estimator {font-family: monospace;background-color: #f0f8ff;border: 1px dotted black;border-radius: 0.25em;box-sizing: border-box;margin-bottom: 0.5em;}#sk-container-id-1 div.sk-estimator:hover {background-color: #d4ebff;}#sk-container-id-1 div.sk-parallel-item::after {content: \"\";width: 100%;border-bottom: 1px solid gray;flex-grow: 1;}#sk-container-id-1 div.sk-label:hover label.sk-toggleable__label {background-color: #d4ebff;}#sk-container-id-1 div.sk-serial::before {content: \"\";position: absolute;border-left: 1px solid gray;box-sizing: border-box;top: 0;bottom: 0;left: 50%;z-index: 0;}#sk-container-id-1 div.sk-serial {display: flex;flex-direction: column;align-items: center;background-color: white;padding-right: 0.2em;padding-left: 0.2em;position: relative;}#sk-container-id-1 div.sk-item {position: relative;z-index: 1;}#sk-container-id-1 div.sk-parallel {display: flex;align-items: stretch;justify-content: center;background-color: white;position: relative;}#sk-container-id-1 div.sk-item::before, #sk-container-id-1 div.sk-parallel-item::before {content: \"\";position: absolute;border-left: 1px solid gray;box-sizing: border-box;top: 0;bottom: 0;left: 50%;z-index: -1;}#sk-container-id-1 div.sk-parallel-item {display: flex;flex-direction: column;z-index: 1;position: relative;background-color: white;}#sk-container-id-1 div.sk-parallel-item:first-child::after {align-self: flex-end;width: 50%;}#sk-container-id-1 div.sk-parallel-item:last-child::after {align-self: flex-start;width: 50%;}#sk-container-id-1 div.sk-parallel-item:only-child::after {width: 0;}#sk-container-id-1 div.sk-dashed-wrapped {border: 1px dashed gray;margin: 0 0.4em 0.5em 0.4em;box-sizing: border-box;padding-bottom: 0.4em;background-color: white;}#sk-container-id-1 div.sk-label label {font-family: monospace;font-weight: bold;display: inline-block;line-height: 1.2em;}#sk-container-id-1 div.sk-label-container {text-align: center;}#sk-container-id-1 div.sk-container {/* jupyter's `normalize.less` sets `[hidden] { display: none; }` but bootstrap.min.css set `[hidden] { display: none !important; }` so we also need the `!important` here to be able to override the default hidden behavior on the sphinx rendered scikit-learn.org. See: https://github.com/scikit-learn/scikit-learn/issues/21755 */display: inline-block !important;position: relative;}#sk-container-id-1 div.sk-text-repr-fallback {display: none;}</style><div id=\"sk-container-id-1\" class=\"sk-top-container\"><div class=\"sk-text-repr-fallback\"><pre>LogisticRegression()</pre><b>In a Jupyter environment, please rerun this cell to show the HTML representation or trust the notebook. <br />On GitHub, the HTML representation is unable to render, please try loading this page with nbviewer.org.</b></div><div class=\"sk-container\" hidden><div class=\"sk-item\"><div class=\"sk-estimator sk-toggleable\"><input class=\"sk-toggleable__control sk-hidden--visually\" id=\"sk-estimator-id-1\" type=\"checkbox\" checked><label for=\"sk-estimator-id-1\" class=\"sk-toggleable__label sk-toggleable__label-arrow\">LogisticRegression</label><div class=\"sk-toggleable__content\"><pre>LogisticRegression()</pre></div></div></div></div></div>"
            ]
          },
          "metadata": {},
          "execution_count": 26
        }
      ]
    },
    {
      "cell_type": "code",
      "source": [
        "y_pred = logistic_model.predict(X_test)"
      ],
      "metadata": {
        "id": "85Vr-qzooj0X"
      },
      "execution_count": 27,
      "outputs": []
    },
    {
      "cell_type": "code",
      "source": [
        "logistic_model.score(X_test,y_test)"
      ],
      "metadata": {
        "colab": {
          "base_uri": "https://localhost:8080/"
        },
        "id": "o2aWZS9Do4pT",
        "outputId": "d27a5014-64c1-4ea9-cea8-f31330612b14"
      },
      "execution_count": 28,
      "outputs": [
        {
          "output_type": "execute_result",
          "data": {
            "text/plain": [
              "0.89"
            ]
          },
          "metadata": {},
          "execution_count": 28
        }
      ]
    },
    {
      "cell_type": "code",
      "source": [
        "logistic_model.predict_proba(X_test)"
      ],
      "metadata": {
        "colab": {
          "base_uri": "https://localhost:8080/"
        },
        "id": "xXsgsAdfpFhT",
        "outputId": "d85157dd-f7c1-4022-8ce6-2f90848a4bd5"
      },
      "execution_count": 29,
      "outputs": [
        {
          "output_type": "execute_result",
          "data": {
            "text/plain": [
              "array([[9.99407808e-03, 9.90005922e-01],\n",
              "       [8.40652432e-01, 1.59347568e-01],\n",
              "       [9.48314449e-04, 9.99051686e-01],\n",
              "       [3.35102010e-02, 9.66489799e-01],\n",
              "       [8.99785710e-02, 9.10021429e-01],\n",
              "       [8.34568508e-01, 1.65431492e-01],\n",
              "       [2.41264401e-05, 9.99975874e-01],\n",
              "       [2.31945697e-02, 9.76805430e-01],\n",
              "       [9.93442488e-01, 6.55751181e-03],\n",
              "       [7.82289425e-05, 9.99921771e-01],\n",
              "       [9.42811270e-01, 5.71887297e-02],\n",
              "       [9.82696764e-01, 1.73032360e-02],\n",
              "       [4.92339517e-04, 9.99507660e-01],\n",
              "       [5.59990503e-04, 9.99440009e-01],\n",
              "       [9.86530610e-01, 1.34693898e-02],\n",
              "       [9.48379306e-01, 5.16206938e-02],\n",
              "       [8.82373304e-01, 1.17626696e-01],\n",
              "       [1.18323982e-01, 8.81676018e-01],\n",
              "       [7.03184023e-03, 9.92968160e-01],\n",
              "       [9.72185917e-01, 2.78140826e-02],\n",
              "       [8.47859303e-02, 9.15214070e-01],\n",
              "       [9.99774592e-01, 2.25408071e-04],\n",
              "       [1.85576128e-01, 8.14423872e-01],\n",
              "       [9.39110893e-01, 6.08891068e-02],\n",
              "       [7.64300839e-03, 9.92356992e-01],\n",
              "       [9.51061034e-02, 9.04893897e-01],\n",
              "       [7.10698877e-01, 2.89301123e-01],\n",
              "       [2.63128327e-02, 9.73687167e-01],\n",
              "       [9.00500265e-01, 9.94997351e-02],\n",
              "       [6.82141901e-01, 3.17858099e-01],\n",
              "       [9.96476687e-01, 3.52331268e-03],\n",
              "       [9.80823287e-01, 1.91767128e-02],\n",
              "       [9.91781033e-01, 8.21896664e-03],\n",
              "       [9.62545006e-01, 3.74549944e-02],\n",
              "       [9.25295744e-01, 7.47042565e-02],\n",
              "       [9.05638981e-01, 9.43610186e-02],\n",
              "       [9.18714715e-01, 8.12852851e-02],\n",
              "       [9.68506505e-01, 3.14934952e-02],\n",
              "       [9.56673440e-01, 4.33265604e-02],\n",
              "       [9.92472770e-01, 7.52722958e-03],\n",
              "       [9.51977107e-01, 4.80228931e-02],\n",
              "       [9.62868462e-01, 3.71315377e-02],\n",
              "       [3.90801195e-03, 9.96091988e-01],\n",
              "       [9.10388602e-01, 8.96113980e-02],\n",
              "       [2.54574459e-02, 9.74542554e-01],\n",
              "       [8.89703171e-01, 1.10296829e-01],\n",
              "       [1.45625993e-01, 8.54374007e-01],\n",
              "       [8.63490686e-01, 1.36509314e-01],\n",
              "       [9.93500320e-01, 6.49968045e-03],\n",
              "       [5.95201344e-03, 9.94047987e-01],\n",
              "       [9.79189013e-01, 2.08109870e-02],\n",
              "       [9.97204470e-01, 2.79552988e-03],\n",
              "       [2.17622829e-03, 9.97823772e-01],\n",
              "       [6.57069536e-02, 9.34293046e-01],\n",
              "       [8.05100654e-01, 1.94899346e-01],\n",
              "       [9.99836403e-01, 1.63596522e-04],\n",
              "       [1.17246707e-03, 9.98827533e-01],\n",
              "       [4.04919512e-03, 9.95950805e-01],\n",
              "       [2.21725761e-01, 7.78274239e-01],\n",
              "       [1.96575909e-04, 9.99803424e-01],\n",
              "       [9.48951202e-01, 5.10487976e-02],\n",
              "       [2.57582992e-03, 9.97424170e-01],\n",
              "       [7.64346494e-01, 2.35653506e-01],\n",
              "       [6.87533175e-01, 3.12466825e-01],\n",
              "       [7.89575525e-01, 2.10424475e-01],\n",
              "       [8.13496161e-04, 9.99186504e-01],\n",
              "       [9.92573175e-01, 7.42682533e-03],\n",
              "       [9.91362009e-01, 8.63799075e-03],\n",
              "       [9.94948112e-01, 5.05188772e-03],\n",
              "       [5.40400309e-02, 9.45959969e-01],\n",
              "       [3.99943825e-03, 9.96000562e-01],\n",
              "       [9.22469115e-01, 7.75308850e-02],\n",
              "       [7.54344551e-03, 9.92456554e-01],\n",
              "       [5.54544493e-02, 9.44545551e-01],\n",
              "       [6.79374189e-01, 3.20625811e-01],\n",
              "       [9.86802194e-01, 1.31978059e-02],\n",
              "       [8.80252721e-01, 1.19747279e-01],\n",
              "       [8.58283313e-01, 1.41716687e-01],\n",
              "       [3.61013253e-01, 6.38986747e-01],\n",
              "       [9.85381054e-01, 1.46189461e-02],\n",
              "       [3.28926718e-01, 6.71073282e-01],\n",
              "       [9.91618388e-01, 8.38161250e-03],\n",
              "       [9.92673071e-01, 7.32692870e-03],\n",
              "       [3.80694975e-04, 9.99619305e-01],\n",
              "       [9.98926745e-01, 1.07325537e-03],\n",
              "       [9.56870370e-01, 4.31296297e-02],\n",
              "       [9.77177662e-01, 2.28223376e-02],\n",
              "       [4.44987451e-01, 5.55012549e-01],\n",
              "       [9.98354043e-01, 1.64595715e-03],\n",
              "       [6.17231874e-01, 3.82768126e-01],\n",
              "       [1.04766463e-04, 9.99895234e-01],\n",
              "       [9.97592321e-01, 2.40767883e-03],\n",
              "       [4.47488173e-03, 9.95525118e-01],\n",
              "       [6.66869007e-02, 9.33313099e-01],\n",
              "       [8.84327366e-01, 1.15672634e-01],\n",
              "       [9.71197507e-01, 2.88024927e-02],\n",
              "       [1.52279533e-03, 9.98477205e-01],\n",
              "       [1.12784109e-02, 9.88721589e-01],\n",
              "       [1.35872278e-03, 9.98641277e-01],\n",
              "       [4.41139464e-01, 5.58860536e-01],\n",
              "       [9.92470094e-01, 7.52990559e-03],\n",
              "       [9.97583365e-01, 2.41663472e-03],\n",
              "       [9.07833544e-03, 9.90921665e-01],\n",
              "       [8.09250725e-03, 9.91907493e-01],\n",
              "       [9.78573037e-01, 2.14269627e-02],\n",
              "       [7.13384375e-03, 9.92866156e-01],\n",
              "       [1.32791567e-03, 9.98672084e-01],\n",
              "       [6.99733696e-01, 3.00266304e-01],\n",
              "       [2.48657986e-03, 9.97513420e-01],\n",
              "       [7.58550579e-01, 2.41449421e-01],\n",
              "       [3.16664494e-02, 9.68333551e-01],\n",
              "       [2.89685590e-01, 7.10314410e-01],\n",
              "       [9.83804250e-03, 9.90161958e-01],\n",
              "       [9.10419573e-01, 8.95804275e-02],\n",
              "       [9.98739583e-01, 1.26041711e-03],\n",
              "       [9.16058396e-01, 8.39416045e-02],\n",
              "       [8.47511809e-01, 1.52488191e-01],\n",
              "       [9.51180226e-01, 4.88197738e-02],\n",
              "       [9.94847179e-01, 5.15282134e-03],\n",
              "       [1.06521449e-02, 9.89347855e-01],\n",
              "       [6.03590764e-01, 3.96409236e-01],\n",
              "       [9.04010055e-01, 9.59899448e-02],\n",
              "       [4.46080862e-03, 9.95539191e-01],\n",
              "       [6.29986734e-01, 3.70013266e-01],\n",
              "       [9.99308562e-01, 6.91437575e-04],\n",
              "       [1.61838961e-03, 9.98381610e-01],\n",
              "       [5.31389473e-02, 9.46861053e-01],\n",
              "       [1.65575217e-04, 9.99834425e-01],\n",
              "       [9.49844729e-01, 5.01552710e-02],\n",
              "       [6.14099129e-02, 9.38590087e-01],\n",
              "       [2.35418560e-04, 9.99764581e-01],\n",
              "       [9.09778614e-01, 9.02213863e-02],\n",
              "       [7.09382090e-02, 9.29061791e-01],\n",
              "       [4.96254054e-02, 9.50374595e-01],\n",
              "       [9.68562922e-01, 3.14370777e-02],\n",
              "       [9.91311519e-01, 8.68848143e-03],\n",
              "       [9.48047455e-01, 5.19525452e-02],\n",
              "       [8.16199102e-03, 9.91838009e-01],\n",
              "       [9.68060739e-01, 3.19392612e-02],\n",
              "       [9.86789890e-01, 1.32101102e-02],\n",
              "       [4.13857075e-01, 5.86142925e-01],\n",
              "       [5.50245318e-04, 9.99449755e-01],\n",
              "       [9.99155039e-01, 8.44960838e-04],\n",
              "       [6.42433745e-02, 9.35756625e-01],\n",
              "       [9.83053742e-01, 1.69462582e-02],\n",
              "       [8.35312919e-01, 1.64687081e-01],\n",
              "       [9.66510743e-01, 3.34892566e-02],\n",
              "       [1.57808395e-04, 9.99842192e-01],\n",
              "       [4.07778328e-02, 9.59222167e-01],\n",
              "       [9.99846054e-01, 1.53945747e-04],\n",
              "       [3.56763128e-01, 6.43236872e-01],\n",
              "       [9.93524626e-01, 6.47537373e-03],\n",
              "       [9.65764244e-01, 3.42357556e-02],\n",
              "       [4.73300496e-02, 9.52669950e-01],\n",
              "       [9.88870818e-01, 1.11291818e-02],\n",
              "       [9.30374382e-01, 6.96256178e-02],\n",
              "       [6.36308446e-03, 9.93636916e-01],\n",
              "       [9.66730620e-01, 3.32693803e-02],\n",
              "       [9.44315121e-01, 5.56848795e-02],\n",
              "       [6.36477438e-01, 3.63522562e-01],\n",
              "       [9.52914587e-01, 4.70854129e-02],\n",
              "       [6.40020080e-01, 3.59979920e-01],\n",
              "       [1.31563415e-01, 8.68436585e-01],\n",
              "       [2.15041597e-02, 9.78495840e-01],\n",
              "       [1.84349985e-03, 9.98156500e-01],\n",
              "       [9.99927227e-01, 7.27733995e-05],\n",
              "       [3.05819276e-02, 9.69418072e-01],\n",
              "       [6.92816293e-01, 3.07183707e-01],\n",
              "       [1.15515217e-03, 9.98844848e-01],\n",
              "       [7.58337527e-01, 2.41662473e-01],\n",
              "       [1.65649834e-03, 9.98343502e-01],\n",
              "       [9.73883333e-01, 2.61166672e-02],\n",
              "       [9.95269071e-01, 4.73092872e-03],\n",
              "       [2.95458225e-02, 9.70454178e-01],\n",
              "       [2.66004042e-02, 9.73399596e-01],\n",
              "       [9.86696506e-01, 1.33034937e-02],\n",
              "       [3.89593311e-04, 9.99610407e-01],\n",
              "       [8.44491267e-02, 9.15550873e-01],\n",
              "       [2.36313326e-02, 9.76368667e-01],\n",
              "       [5.19726333e-03, 9.94802737e-01],\n",
              "       [8.88434752e-02, 9.11156525e-01],\n",
              "       [6.67441025e-03, 9.93325590e-01],\n",
              "       [2.52029030e-04, 9.99747971e-01],\n",
              "       [8.10139132e-04, 9.99189861e-01],\n",
              "       [9.81305053e-01, 1.86949474e-02],\n",
              "       [9.74799269e-01, 2.52007310e-02],\n",
              "       [9.72248779e-01, 2.77512212e-02],\n",
              "       [8.29394450e-01, 1.70605550e-01],\n",
              "       [9.98266105e-01, 1.73389455e-03],\n",
              "       [8.02668691e-01, 1.97331309e-01],\n",
              "       [5.99379755e-01, 4.00620245e-01],\n",
              "       [9.12675324e-01, 8.73246761e-02],\n",
              "       [9.93685020e-01, 6.31497967e-03],\n",
              "       [2.58995384e-01, 7.41004616e-01],\n",
              "       [9.60565078e-01, 3.94349220e-02],\n",
              "       [9.98871101e-01, 1.12889853e-03],\n",
              "       [1.45401624e-01, 8.54598376e-01],\n",
              "       [7.24924171e-04, 9.99275076e-01],\n",
              "       [5.25967347e-04, 9.99474033e-01],\n",
              "       [9.68856217e-02, 9.03114378e-01],\n",
              "       [8.02541587e-01, 1.97458413e-01],\n",
              "       [9.99779553e-01, 2.20446930e-04],\n",
              "       [7.48123229e-04, 9.99251877e-01],\n",
              "       [9.56086082e-01, 4.39139177e-02],\n",
              "       [9.58917090e-02, 9.04108291e-01],\n",
              "       [9.56900759e-01, 4.30992414e-02],\n",
              "       [8.01741973e-04, 9.99198258e-01],\n",
              "       [7.46503585e-03, 9.92534964e-01],\n",
              "       [6.58575595e-04, 9.99341424e-01],\n",
              "       [1.05218569e-02, 9.89478143e-01],\n",
              "       [6.89392701e-03, 9.93106073e-01],\n",
              "       [1.57499865e-01, 8.42500135e-01],\n",
              "       [9.98082889e-01, 1.91711057e-03],\n",
              "       [9.03659807e-01, 9.63401934e-02],\n",
              "       [9.99725966e-01, 2.74033509e-04],\n",
              "       [3.20942691e-02, 9.67905731e-01],\n",
              "       [9.00966013e-01, 9.90339870e-02],\n",
              "       [5.52803947e-01, 4.47196053e-01],\n",
              "       [9.99929663e-01, 7.03372057e-05],\n",
              "       [3.30514415e-04, 9.99669486e-01],\n",
              "       [9.62138887e-04, 9.99037861e-01],\n",
              "       [9.99972119e-01, 2.78806364e-05],\n",
              "       [2.07157706e-02, 9.79284229e-01],\n",
              "       [6.63107128e-01, 3.36892872e-01],\n",
              "       [9.76383840e-01, 2.36161600e-02],\n",
              "       [2.39408397e-01, 7.60591603e-01],\n",
              "       [9.93915655e-01, 6.08434525e-03],\n",
              "       [1.18758383e-01, 8.81241617e-01],\n",
              "       [1.44240417e-02, 9.85575958e-01],\n",
              "       [1.23375966e-01, 8.76624034e-01],\n",
              "       [4.53815334e-01, 5.46184666e-01],\n",
              "       [9.90291388e-01, 9.70861172e-03],\n",
              "       [8.88138073e-01, 1.11861927e-01],\n",
              "       [1.59892896e-02, 9.84010710e-01],\n",
              "       [2.62047154e-04, 9.99737953e-01],\n",
              "       [1.17514581e-02, 9.88248542e-01],\n",
              "       [9.95648215e-01, 4.35178510e-03],\n",
              "       [9.98380820e-01, 1.61918004e-03],\n",
              "       [6.82116560e-02, 9.31788344e-01],\n",
              "       [4.89698568e-02, 9.51030143e-01],\n",
              "       [9.93325087e-01, 6.67491342e-03],\n",
              "       [7.93647154e-01, 2.06352846e-01],\n",
              "       [4.47236486e-02, 9.55276351e-01],\n",
              "       [1.99904045e-04, 9.99800096e-01],\n",
              "       [7.93795984e-01, 2.06204016e-01],\n",
              "       [5.21429304e-01, 4.78570696e-01],\n",
              "       [6.63392803e-01, 3.36607197e-01],\n",
              "       [6.41438808e-02, 9.35856119e-01],\n",
              "       [8.73722350e-01, 1.26277650e-01],\n",
              "       [2.57137113e-02, 9.74286289e-01],\n",
              "       [1.65675794e-01, 8.34324206e-01],\n",
              "       [9.95928870e-01, 4.07112975e-03],\n",
              "       [2.96705947e-03, 9.97032941e-01],\n",
              "       [9.83022887e-01, 1.69771130e-02],\n",
              "       [8.91703905e-01, 1.08296095e-01],\n",
              "       [1.97033611e-02, 9.80296639e-01],\n",
              "       [1.55507026e-02, 9.84449297e-01],\n",
              "       [9.99536336e-01, 4.63663710e-04],\n",
              "       [2.64673531e-03, 9.97353265e-01],\n",
              "       [7.68561482e-02, 9.23143852e-01],\n",
              "       [7.04885493e-01, 2.95114507e-01],\n",
              "       [9.41230453e-01, 5.87695468e-02],\n",
              "       [3.20601234e-03, 9.96793988e-01],\n",
              "       [7.67224899e-01, 2.32775101e-01],\n",
              "       [2.49218082e-03, 9.97507819e-01],\n",
              "       [4.60436955e-01, 5.39563045e-01],\n",
              "       [9.94955451e-01, 5.04454883e-03],\n",
              "       [1.40053807e-01, 8.59946193e-01],\n",
              "       [5.34331567e-03, 9.94656684e-01],\n",
              "       [2.28740904e-04, 9.99771259e-01],\n",
              "       [3.00023359e-05, 9.99969998e-01],\n",
              "       [2.11635222e-01, 7.88364778e-01],\n",
              "       [1.56634492e-01, 8.43365508e-01],\n",
              "       [1.04389981e-01, 8.95610019e-01],\n",
              "       [4.10123647e-01, 5.89876353e-01],\n",
              "       [1.62475807e-03, 9.98375242e-01],\n",
              "       [8.85087466e-01, 1.14912534e-01],\n",
              "       [2.83497425e-01, 7.16502575e-01],\n",
              "       [9.87325756e-01, 1.26742445e-02],\n",
              "       [6.83407001e-04, 9.99316593e-01],\n",
              "       [5.89697509e-01, 4.10302491e-01],\n",
              "       [6.59523235e-01, 3.40476765e-01],\n",
              "       [1.53876159e-01, 8.46123841e-01],\n",
              "       [9.99562879e-01, 4.37120836e-04],\n",
              "       [9.97516814e-01, 2.48318616e-03],\n",
              "       [7.56211475e-03, 9.92437885e-01],\n",
              "       [5.34864999e-01, 4.65135001e-01],\n",
              "       [5.92286675e-01, 4.07713325e-01],\n",
              "       [5.68141944e-03, 9.94318581e-01],\n",
              "       [3.38033338e-01, 6.61966662e-01],\n",
              "       [7.57081938e-01, 2.42918062e-01],\n",
              "       [9.11437632e-01, 8.85623675e-02],\n",
              "       [5.13088013e-02, 9.48691199e-01],\n",
              "       [9.99723728e-01, 2.76272414e-04],\n",
              "       [9.96948461e-01, 3.05153895e-03],\n",
              "       [8.91440711e-01, 1.08559289e-01],\n",
              "       [9.98172294e-01, 1.82770648e-03],\n",
              "       [9.89845079e-01, 1.01549211e-02],\n",
              "       [1.87315872e-03, 9.98126841e-01],\n",
              "       [2.67287694e-04, 9.99732712e-01]])"
            ]
          },
          "metadata": {},
          "execution_count": 29
        }
      ]
    },
    {
      "cell_type": "code",
      "source": [
        "from sklearn.metrics import accuracy_score, confusion_matrix,classification_report\n",
        "\n",
        "cm = confusion_matrix(y_test,y_pred)\n",
        "accuracy = accuracy_score(y_pred, y_test)\n",
        "classification_report = classification_report(y_pred, y_test)"
      ],
      "metadata": {
        "id": "SPSPsQg6tVc0"
      },
      "execution_count": 65,
      "outputs": []
    },
    {
      "cell_type": "code",
      "source": [
        "print(accuracy)\n",
        "print(classification_report)"
      ],
      "metadata": {
        "colab": {
          "base_uri": "https://localhost:8080/"
        },
        "id": "NCA0eUIEtlbu",
        "outputId": "995e61ab-f45b-485a-9b19-a993c955c748"
      },
      "execution_count": 31,
      "outputs": [
        {
          "output_type": "stream",
          "name": "stdout",
          "text": [
            "0.89\n",
            "              precision    recall  f1-score   support\n",
            "\n",
            "           0       0.94      0.84      0.89       157\n",
            "           1       0.84      0.94      0.89       143\n",
            "\n",
            "    accuracy                           0.89       300\n",
            "   macro avg       0.89      0.89      0.89       300\n",
            "weighted avg       0.90      0.89      0.89       300\n",
            "\n"
          ]
        }
      ]
    },
    {
      "cell_type": "code",
      "source": [
        "sns.heatmap(cm, annot=True, cmap='Blues', fmt = \".1f\")\n",
        "plt.title('Confusion Matrix')\n",
        "plt.xlabel('Truth')\n",
        "plt.ylabel('Predicted')\n",
        "plt.show()"
      ],
      "metadata": {
        "colab": {
          "base_uri": "https://localhost:8080/",
          "height": 472
        },
        "id": "RxanVcTduogF",
        "outputId": "cb117221-f528-47b0-e9ca-f41465a293ba"
      },
      "execution_count": 32,
      "outputs": [
        {
          "output_type": "display_data",
          "data": {
            "text/plain": [
              "<Figure size 640x480 with 2 Axes>"
            ],
            "image/png": "[encoded data removed]"
          },
          "metadata": {}
        }
      ]
    },
    {
      "cell_type": "markdown",
      "source": [
        "### **Hyperparameter Tuning Using Grid Search**"
      ],
      "metadata": {
        "id": "kP8zXBSrQS4x"
      }
    },
    {
      "cell_type": "code",
      "source": [
        "tuned_model = LogisticRegression()\n",
        "\n",
        "Penalty=['l1', 'l2', 'elasticnet']\n",
        "c=[1.0,2.0,3.0,1.5,2.5]\n",
        "Solver=['lbfgs', 'liblinear', 'newton-cg', 'newton-cholesky', 'sag', 'saga']"
      ],
      "metadata": {
        "id": "x1MLR7eBQWey"
      },
      "execution_count": 51,
      "outputs": []
    },
    {
      "cell_type": "code",
      "source": [
        "params = dict(penalty = Penalty, C =c, solver =Solver,)"
      ],
      "metadata": {
        "id": "hNIX5DR7TGMU"
      },
      "execution_count": 52,
      "outputs": []
    },
    {
      "cell_type": "markdown",
      "source": [
        "***K-Fold:***\n",
        "\n",
        "Simple Split: K-Fold randomly splits the data into k equal folds (sub-datasets).\n",
        "\n",
        "No Class Balancing: It doesn't consider the class distribution of your data.\n",
        "\n",
        "Each fold is a random selection from the entire dataset.\n",
        "\n",
        "\n",
        "\n",
        "---\n",
        "\n",
        "\n",
        "***Stratified K-Fold:***\n",
        "\n",
        "Preserves Class Ratio: Stratified K-Fold ensures each fold maintains the same proportion of classes as the entire dataset.\n",
        "\n",
        "Balanced Folds: It stratifies (divides) the data by class label first, then splits each class into k folds."
      ],
      "metadata": {
        "id": "4muCd7afV6JZ"
      }
    },
    {
      "cell_type": "code",
      "source": [
        "### Grid Search CV and Statified K Fold\n",
        "\n",
        "from sklearn.model_selection import GridSearchCV, StratifiedKFold\n",
        "fold = StratifiedKFold()\n",
        "gridsearch = GridSearchCV(estimator = tuned_model, param_grid= params, cv = fold, scoring = 'accuracy')\n"
      ],
      "metadata": {
        "id": "iFsTUaFyUUbZ"
      },
      "execution_count": 53,
      "outputs": []
    },
    {
      "cell_type": "code",
      "source": [
        "gridsearch"
      ],
      "metadata": {
        "colab": {
          "base_uri": "https://localhost:8080/",
          "height": 117
        },
        "id": "hsI17g7QWtL8",
        "outputId": "58192ead-5db9-4071-fc32-f300f683dc9d"
      },
      "execution_count": 54,
      "outputs": [
        {
          "output_type": "execute_result",
          "data": {
            "text/plain": [
              "GridSearchCV(cv=StratifiedKFold(n_splits=5, random_state=None, shuffle=False),\n",
              "             estimator=LogisticRegression(),\n",
              "             param_grid={'C': [1.0, 2.0, 3.0, 1.5, 2.5],\n",
              "                         'penalty': ['l1', 'l2', 'elasticnet'],\n",
              "                         'solver': ['lbfgs', 'liblinear', 'newton-cg',\n",
              "                                    'newton-cholesky', 'sag', 'saga']},\n",
              "             scoring='accuracy')"
            ],
            "text/html": [
              "<style>#sk-container-id-4 {color: black;background-color: white;}#sk-container-id-4 pre{padding: 0;}#sk-container-id-4 div.sk-toggleable {background-color: white;}#sk-container-id-4 label.sk-toggleable__label {cursor: pointer;display: block;width: 100%;margin-bottom: 0;padding: 0.3em;box-sizing: border-box;text-align: center;}#sk-container-id-4 label.sk-toggleable__label-arrow:before {content: \"▸\";float: left;margin-right: 0.25em;color: #696969;}#sk-container-id-4 label.sk-toggleable__label-arrow:hover:before {color: black;}#sk-container-id-4 div.sk-estimator:hover label.sk-toggleable__label-arrow:before {color: black;}#sk-container-id-4 div.sk-toggleable__content {max-height: 0;max-width: 0;overflow: hidden;text-align: left;background-color: #f0f8ff;}#sk-container-id-4 div.sk-toggleable__content pre {margin: 0.2em;color: black;border-radius: 0.25em;background-color: #f0f8ff;}#sk-container-id-4 input.sk-toggleable__control:checked~div.sk-toggleable__content {max-height: 200px;max-width: 100%;overflow: auto;}#sk-container-id-4 input.sk-toggleable__control:checked~label.sk-toggleable__label-arrow:before {content: \"▾\";}#sk-container-id-4 div.sk-estimator input.sk-toggleable__control:checked~label.sk-toggleable__label {background-color: #d4ebff;}#sk-container-id-4 div.sk-label input.sk-toggleable__control:checked~label.sk-toggleable__label {background-color: #d4ebff;}#sk-container-id-4 input.sk-hidden--visually {border: 0;clip: rect(1px 1px 1px 1px);clip: rect(1px, 1px, 1px, 1px);height: 1px;margin: -1px;overflow: hidden;padding: 0;position: absolute;width: 1px;}#sk-container-id-4 div.sk-estimator {font-family: monospace;background-color: #f0f8ff;border: 1px dotted black;border-radius: 0.25em;box-sizing: border-box;margin-bottom: 0.5em;}#sk-container-id-4 div.sk-estimator:hover {background-color: #d4ebff;}#sk-container-id-4 div.sk-parallel-item::after {content: \"\";width: 100%;border-bottom: 1px solid gray;flex-grow: 1;}#sk-container-id-4 div.sk-label:hover label.sk-toggleable__label {background-color: #d4ebff;}#sk-container-id-4 div.sk-serial::before {content: \"\";position: absolute;border-left: 1px solid gray;box-sizing: border-box;top: 0;bottom: 0;left: 50%;z-index: 0;}#sk-container-id-4 div.sk-serial {display: flex;flex-direction: column;align-items: center;background-color: white;padding-right: 0.2em;padding-left: 0.2em;position: relative;}#sk-container-id-4 div.sk-item {position: relative;z-index: 1;}#sk-container-id-4 div.sk-parallel {display: flex;align-items: stretch;justify-content: center;background-color: white;position: relative;}#sk-container-id-4 div.sk-item::before, #sk-container-id-4 div.sk-parallel-item::before {content: \"\";position: absolute;border-left: 1px solid gray;box-sizing: border-box;top: 0;bottom: 0;left: 50%;z-index: -1;}#sk-container-id-4 div.sk-parallel-item {display: flex;flex-direction: column;z-index: 1;position: relative;background-color: white;}#sk-container-id-4 div.sk-parallel-item:first-child::after {align-self: flex-end;width: 50%;}#sk-container-id-4 div.sk-parallel-item:last-child::after {align-self: flex-start;width: 50%;}#sk-container-id-4 div.sk-parallel-item:only-child::after {width: 0;}#sk-container-id-4 div.sk-dashed-wrapped {border: 1px dashed gray;margin: 0 0.4em 0.5em 0.4em;box-sizing: border-box;padding-bottom: 0.4em;background-color: white;}#sk-container-id-4 div.sk-label label {font-family: monospace;font-weight: bold;display: inline-block;line-height: 1.2em;}#sk-container-id-4 div.sk-label-container {text-align: center;}#sk-container-id-4 div.sk-container {/* jupyter's `normalize.less` sets `[hidden] { display: none; }` but bootstrap.min.css set `[hidden] { display: none !important; }` so we also need the `!important` here to be able to override the default hidden behavior on the sphinx rendered scikit-learn.org. See: https://github.com/scikit-learn/scikit-learn/issues/21755 */display: inline-block !important;position: relative;}#sk-container-id-4 div.sk-text-repr-fallback {display: none;}</style><div id=\"sk-container-id-4\" class=\"sk-top-container\"><div class=\"sk-text-repr-fallback\"><pre>GridSearchCV(cv=StratifiedKFold(n_splits=5, random_state=None, shuffle=False),\n",
              "             estimator=LogisticRegression(),\n",
              "             param_grid={&#x27;C&#x27;: [1.0, 2.0, 3.0, 1.5, 2.5],\n",
              "                         &#x27;penalty&#x27;: [&#x27;l1&#x27;, &#x27;l2&#x27;, &#x27;elasticnet&#x27;],\n",
              "                         &#x27;solver&#x27;: [&#x27;lbfgs&#x27;, &#x27;liblinear&#x27;, &#x27;newton-cg&#x27;,\n",
              "                                    &#x27;newton-cholesky&#x27;, &#x27;sag&#x27;, &#x27;saga&#x27;]},\n",
              "             scoring=&#x27;accuracy&#x27;)</pre><b>In a Jupyter environment, please rerun this cell to show the HTML representation or trust the notebook. <br />On GitHub, the HTML representation is unable to render, please try loading this page with nbviewer.org.</b></div><div class=\"sk-container\" hidden><div class=\"sk-item sk-dashed-wrapped\"><div class=\"sk-label-container\"><div class=\"sk-label sk-toggleable\"><input class=\"sk-toggleable__control sk-hidden--visually\" id=\"sk-estimator-id-8\" type=\"checkbox\" ><label for=\"sk-estimator-id-8\" class=\"sk-toggleable__label sk-toggleable__label-arrow\">GridSearchCV</label><div class=\"sk-toggleable__content\"><pre>GridSearchCV(cv=StratifiedKFold(n_splits=5, random_state=None, shuffle=False),\n",
              "             estimator=LogisticRegression(),\n",
              "             param_grid={&#x27;C&#x27;: [1.0, 2.0, 3.0, 1.5, 2.5],\n",
              "                         &#x27;penalty&#x27;: [&#x27;l1&#x27;, &#x27;l2&#x27;, &#x27;elasticnet&#x27;],\n",
              "                         &#x27;solver&#x27;: [&#x27;lbfgs&#x27;, &#x27;liblinear&#x27;, &#x27;newton-cg&#x27;,\n",
              "                                    &#x27;newton-cholesky&#x27;, &#x27;sag&#x27;, &#x27;saga&#x27;]},\n",
              "             scoring=&#x27;accuracy&#x27;)</pre></div></div></div><div class=\"sk-parallel\"><div class=\"sk-parallel-item\"><div class=\"sk-item\"><div class=\"sk-label-container\"><div class=\"sk-label sk-toggleable\"><input class=\"sk-toggleable__control sk-hidden--visually\" id=\"sk-estimator-id-9\" type=\"checkbox\" ><label for=\"sk-estimator-id-9\" class=\"sk-toggleable__label sk-toggleable__label-arrow\">estimator: LogisticRegression</label><div class=\"sk-toggleable__content\"><pre>LogisticRegression()</pre></div></div></div><div class=\"sk-serial\"><div class=\"sk-item\"><div class=\"sk-estimator sk-toggleable\"><input class=\"sk-toggleable__control sk-hidden--visually\" id=\"sk-estimator-id-10\" type=\"checkbox\" ><label for=\"sk-estimator-id-10\" class=\"sk-toggleable__label sk-toggleable__label-arrow\">LogisticRegression</label><div class=\"sk-toggleable__content\"><pre>LogisticRegression()</pre></div></div></div></div></div></div></div></div></div></div>"
            ]
          },
          "metadata": {},
          "execution_count": 54
        }
      ]
    },
    {
      "cell_type": "code",
      "source": [
        "gridsearch.fit(X_train,y_train)"
      ],
      "metadata": {
        "colab": {
          "base_uri": "https://localhost:8080/",
          "height": 1000
        },
        "id": "xMV8uGLWW6wy",
        "outputId": "0ee2edbc-62e6-4c4a-ffe8-c1b8915cd84b"
      },
      "execution_count": 55,
      "outputs": [
        {
          "output_type": "stream",
          "name": "stderr",
          "text": [
            "/usr/local/lib/python3.10/dist-packages/sklearn/linear_model/_sag.py:350: ConvergenceWarning: The max_iter was reached which means the coef_ did not converge\n",
            "  warnings.warn(\n",
            "/usr/local/lib/python3.10/dist-packages/sklearn/linear_model/_sag.py:350: ConvergenceWarning: The max_iter was reached which means the coef_ did not converge\n",
            "  warnings.warn(\n",
            "/usr/local/lib/python3.10/dist-packages/sklearn/linear_model/_sag.py:350: ConvergenceWarning: The max_iter was reached which means the coef_ did not converge\n",
            "  warnings.warn(\n",
            "/usr/local/lib/python3.10/dist-packages/sklearn/linear_model/_sag.py:350: ConvergenceWarning: The max_iter was reached which means the coef_ did not converge\n",
            "  warnings.warn(\n",
            "/usr/local/lib/python3.10/dist-packages/sklearn/linear_model/_sag.py:350: ConvergenceWarning: The max_iter was reached which means the coef_ did not converge\n",
            "  warnings.warn(\n",
            "/usr/local/lib/python3.10/dist-packages/sklearn/linear_model/_sag.py:350: ConvergenceWarning: The max_iter was reached which means the coef_ did not converge\n",
            "  warnings.warn(\n",
            "/usr/local/lib/python3.10/dist-packages/sklearn/linear_model/_sag.py:350: ConvergenceWarning: The max_iter was reached which means the coef_ did not converge\n",
            "  warnings.warn(\n",
            "/usr/local/lib/python3.10/dist-packages/sklearn/linear_model/_sag.py:350: ConvergenceWarning: The max_iter was reached which means the coef_ did not converge\n",
            "  warnings.warn(\n",
            "/usr/local/lib/python3.10/dist-packages/sklearn/linear_model/_sag.py:350: ConvergenceWarning: The max_iter was reached which means the coef_ did not converge\n",
            "  warnings.warn(\n",
            "/usr/local/lib/python3.10/dist-packages/sklearn/linear_model/_sag.py:350: ConvergenceWarning: The max_iter was reached which means the coef_ did not converge\n",
            "  warnings.warn(\n",
            "/usr/local/lib/python3.10/dist-packages/sklearn/linear_model/_sag.py:350: ConvergenceWarning: The max_iter was reached which means the coef_ did not converge\n",
            "  warnings.warn(\n",
            "/usr/local/lib/python3.10/dist-packages/sklearn/linear_model/_sag.py:350: ConvergenceWarning: The max_iter was reached which means the coef_ did not converge\n",
            "  warnings.warn(\n",
            "/usr/local/lib/python3.10/dist-packages/sklearn/linear_model/_sag.py:350: ConvergenceWarning: The max_iter was reached which means the coef_ did not converge\n",
            "  warnings.warn(\n",
            "/usr/local/lib/python3.10/dist-packages/sklearn/linear_model/_sag.py:350: ConvergenceWarning: The max_iter was reached which means the coef_ did not converge\n",
            "  warnings.warn(\n",
            "/usr/local/lib/python3.10/dist-packages/sklearn/linear_model/_sag.py:350: ConvergenceWarning: The max_iter was reached which means the coef_ did not converge\n",
            "  warnings.warn(\n",
            "/usr/local/lib/python3.10/dist-packages/sklearn/linear_model/_sag.py:350: ConvergenceWarning: The max_iter was reached which means the coef_ did not converge\n",
            "  warnings.warn(\n",
            "/usr/local/lib/python3.10/dist-packages/sklearn/linear_model/_sag.py:350: ConvergenceWarning: The max_iter was reached which means the coef_ did not converge\n",
            "  warnings.warn(\n",
            "/usr/local/lib/python3.10/dist-packages/sklearn/linear_model/_sag.py:350: ConvergenceWarning: The max_iter was reached which means the coef_ did not converge\n",
            "  warnings.warn(\n",
            "/usr/local/lib/python3.10/dist-packages/sklearn/linear_model/_sag.py:350: ConvergenceWarning: The max_iter was reached which means the coef_ did not converge\n",
            "  warnings.warn(\n",
            "/usr/local/lib/python3.10/dist-packages/sklearn/linear_model/_sag.py:350: ConvergenceWarning: The max_iter was reached which means the coef_ did not converge\n",
            "  warnings.warn(\n",
            "/usr/local/lib/python3.10/dist-packages/sklearn/linear_model/_sag.py:350: ConvergenceWarning: The max_iter was reached which means the coef_ did not converge\n",
            "  warnings.warn(\n",
            "/usr/local/lib/python3.10/dist-packages/sklearn/linear_model/_sag.py:350: ConvergenceWarning: The max_iter was reached which means the coef_ did not converge\n",
            "  warnings.warn(\n",
            "/usr/local/lib/python3.10/dist-packages/sklearn/linear_model/_sag.py:350: ConvergenceWarning: The max_iter was reached which means the coef_ did not converge\n",
            "  warnings.warn(\n",
            "/usr/local/lib/python3.10/dist-packages/sklearn/linear_model/_sag.py:350: ConvergenceWarning: The max_iter was reached which means the coef_ did not converge\n",
            "  warnings.warn(\n",
            "/usr/local/lib/python3.10/dist-packages/sklearn/linear_model/_sag.py:350: ConvergenceWarning: The max_iter was reached which means the coef_ did not converge\n",
            "  warnings.warn(\n",
            "/usr/local/lib/python3.10/dist-packages/sklearn/model_selection/_validation.py:378: FitFailedWarning: \n",
            "250 fits failed out of a total of 450.\n",
            "The score on these train-test partitions for these parameters will be set to nan.\n",
            "If these failures are not expected, you can try to debug them by setting error_score='raise'.\n",
            "\n",
            "Below are more details about the failures:\n",
            "--------------------------------------------------------------------------------\n",
            "25 fits failed with the following error:\n",
            "Traceback (most recent call last):\n",
            "  File \"/usr/local/lib/python3.10/dist-packages/sklearn/model_selection/_validation.py\", line 686, in _fit_and_score\n",
            "    estimator.fit(X_train, y_train, **fit_params)\n",
            "  File \"/usr/local/lib/python3.10/dist-packages/sklearn/linear_model/_logistic.py\", line 1162, in fit\n",
            "    solver = _check_solver(self.solver, self.penalty, self.dual)\n",
            "  File \"/usr/local/lib/python3.10/dist-packages/sklearn/linear_model/_logistic.py\", line 54, in _check_solver\n",
            "    raise ValueError(\n",
            "ValueError: Solver lbfgs supports only 'l2' or 'none' penalties, got l1 penalty.\n",
            "\n",
            "--------------------------------------------------------------------------------\n",
            "25 fits failed with the following error:\n",
            "Traceback (most recent call last):\n",
            "  File \"/usr/local/lib/python3.10/dist-packages/sklearn/model_selection/_validation.py\", line 686, in _fit_and_score\n",
            "    estimator.fit(X_train, y_train, **fit_params)\n",
            "  File \"/usr/local/lib/python3.10/dist-packages/sklearn/linear_model/_logistic.py\", line 1162, in fit\n",
            "    solver = _check_solver(self.solver, self.penalty, self.dual)\n",
            "  File \"/usr/local/lib/python3.10/dist-packages/sklearn/linear_model/_logistic.py\", line 54, in _check_solver\n",
            "    raise ValueError(\n",
            "ValueError: Solver newton-cg supports only 'l2' or 'none' penalties, got l1 penalty.\n",
            "\n",
            "--------------------------------------------------------------------------------\n",
            "25 fits failed with the following error:\n",
            "Traceback (most recent call last):\n",
            "  File \"/usr/local/lib/python3.10/dist-packages/sklearn/model_selection/_validation.py\", line 686, in _fit_and_score\n",
            "    estimator.fit(X_train, y_train, **fit_params)\n",
            "  File \"/usr/local/lib/python3.10/dist-packages/sklearn/linear_model/_logistic.py\", line 1162, in fit\n",
            "    solver = _check_solver(self.solver, self.penalty, self.dual)\n",
            "  File \"/usr/local/lib/python3.10/dist-packages/sklearn/linear_model/_logistic.py\", line 54, in _check_solver\n",
            "    raise ValueError(\n",
            "ValueError: Solver newton-cholesky supports only 'l2' or 'none' penalties, got l1 penalty.\n",
            "\n",
            "--------------------------------------------------------------------------------\n",
            "25 fits failed with the following error:\n",
            "Traceback (most recent call last):\n",
            "  File \"/usr/local/lib/python3.10/dist-packages/sklearn/model_selection/_validation.py\", line 686, in _fit_and_score\n",
            "    estimator.fit(X_train, y_train, **fit_params)\n",
            "  File \"/usr/local/lib/python3.10/dist-packages/sklearn/linear_model/_logistic.py\", line 1162, in fit\n",
            "    solver = _check_solver(self.solver, self.penalty, self.dual)\n",
            "  File \"/usr/local/lib/python3.10/dist-packages/sklearn/linear_model/_logistic.py\", line 54, in _check_solver\n",
            "    raise ValueError(\n",
            "ValueError: Solver sag supports only 'l2' or 'none' penalties, got l1 penalty.\n",
            "\n",
            "--------------------------------------------------------------------------------\n",
            "25 fits failed with the following error:\n",
            "Traceback (most recent call last):\n",
            "  File \"/usr/local/lib/python3.10/dist-packages/sklearn/model_selection/_validation.py\", line 686, in _fit_and_score\n",
            "    estimator.fit(X_train, y_train, **fit_params)\n",
            "  File \"/usr/local/lib/python3.10/dist-packages/sklearn/linear_model/_logistic.py\", line 1162, in fit\n",
            "    solver = _check_solver(self.solver, self.penalty, self.dual)\n",
            "  File \"/usr/local/lib/python3.10/dist-packages/sklearn/linear_model/_logistic.py\", line 54, in _check_solver\n",
            "    raise ValueError(\n",
            "ValueError: Solver lbfgs supports only 'l2' or 'none' penalties, got elasticnet penalty.\n",
            "\n",
            "--------------------------------------------------------------------------------\n",
            "25 fits failed with the following error:\n",
            "Traceback (most recent call last):\n",
            "  File \"/usr/local/lib/python3.10/dist-packages/sklearn/model_selection/_validation.py\", line 686, in _fit_and_score\n",
            "    estimator.fit(X_train, y_train, **fit_params)\n",
            "  File \"/usr/local/lib/python3.10/dist-packages/sklearn/linear_model/_logistic.py\", line 1162, in fit\n",
            "    solver = _check_solver(self.solver, self.penalty, self.dual)\n",
            "  File \"/usr/local/lib/python3.10/dist-packages/sklearn/linear_model/_logistic.py\", line 64, in _check_solver\n",
            "    raise ValueError(\n",
            "ValueError: Only 'saga' solver supports elasticnet penalty, got solver=liblinear.\n",
            "\n",
            "--------------------------------------------------------------------------------\n",
            "25 fits failed with the following error:\n",
            "Traceback (most recent call last):\n",
            "  File \"/usr/local/lib/python3.10/dist-packages/sklearn/model_selection/_validation.py\", line 686, in _fit_and_score\n",
            "    estimator.fit(X_train, y_train, **fit_params)\n",
            "  File \"/usr/local/lib/python3.10/dist-packages/sklearn/linear_model/_logistic.py\", line 1162, in fit\n",
            "    solver = _check_solver(self.solver, self.penalty, self.dual)\n",
            "  File \"/usr/local/lib/python3.10/dist-packages/sklearn/linear_model/_logistic.py\", line 54, in _check_solver\n",
            "    raise ValueError(\n",
            "ValueError: Solver newton-cg supports only 'l2' or 'none' penalties, got elasticnet penalty.\n",
            "\n",
            "--------------------------------------------------------------------------------\n",
            "25 fits failed with the following error:\n",
            "Traceback (most recent call last):\n",
            "  File \"/usr/local/lib/python3.10/dist-packages/sklearn/model_selection/_validation.py\", line 686, in _fit_and_score\n",
            "    estimator.fit(X_train, y_train, **fit_params)\n",
            "  File \"/usr/local/lib/python3.10/dist-packages/sklearn/linear_model/_logistic.py\", line 1162, in fit\n",
            "    solver = _check_solver(self.solver, self.penalty, self.dual)\n",
            "  File \"/usr/local/lib/python3.10/dist-packages/sklearn/linear_model/_logistic.py\", line 54, in _check_solver\n",
            "    raise ValueError(\n",
            "ValueError: Solver newton-cholesky supports only 'l2' or 'none' penalties, got elasticnet penalty.\n",
            "\n",
            "--------------------------------------------------------------------------------\n",
            "25 fits failed with the following error:\n",
            "Traceback (most recent call last):\n",
            "  File \"/usr/local/lib/python3.10/dist-packages/sklearn/model_selection/_validation.py\", line 686, in _fit_and_score\n",
            "    estimator.fit(X_train, y_train, **fit_params)\n",
            "  File \"/usr/local/lib/python3.10/dist-packages/sklearn/linear_model/_logistic.py\", line 1162, in fit\n",
            "    solver = _check_solver(self.solver, self.penalty, self.dual)\n",
            "  File \"/usr/local/lib/python3.10/dist-packages/sklearn/linear_model/_logistic.py\", line 54, in _check_solver\n",
            "    raise ValueError(\n",
            "ValueError: Solver sag supports only 'l2' or 'none' penalties, got elasticnet penalty.\n",
            "\n",
            "--------------------------------------------------------------------------------\n",
            "25 fits failed with the following error:\n",
            "Traceback (most recent call last):\n",
            "  File \"/usr/local/lib/python3.10/dist-packages/sklearn/model_selection/_validation.py\", line 686, in _fit_and_score\n",
            "    estimator.fit(X_train, y_train, **fit_params)\n",
            "  File \"/usr/local/lib/python3.10/dist-packages/sklearn/linear_model/_logistic.py\", line 1291, in fit\n",
            "    fold_coefs_ = Parallel(n_jobs=self.n_jobs, verbose=self.verbose, prefer=prefer)(\n",
            "  File \"/usr/local/lib/python3.10/dist-packages/sklearn/utils/parallel.py\", line 63, in __call__\n",
            "    return super().__call__(iterable_with_config)\n",
            "  File \"/usr/local/lib/python3.10/dist-packages/joblib/parallel.py\", line 1918, in __call__\n",
            "    return output if self.return_generator else list(output)\n",
            "  File \"/usr/local/lib/python3.10/dist-packages/joblib/parallel.py\", line 1847, in _get_sequential_output\n",
            "    res = func(*args, **kwargs)\n",
            "  File \"/usr/local/lib/python3.10/dist-packages/sklearn/utils/parallel.py\", line 123, in __call__\n",
            "    return self.function(*args, **kwargs)\n",
            "  File \"/usr/local/lib/python3.10/dist-packages/sklearn/linear_model/_logistic.py\", line 521, in _logistic_regression_path\n",
            "    alpha = (1.0 / C) * (1 - l1_ratio)\n",
            "TypeError: unsupported operand type(s) for -: 'int' and 'NoneType'\n",
            "\n",
            "  warnings.warn(some_fits_failed_message, FitFailedWarning)\n",
            "/usr/local/lib/python3.10/dist-packages/sklearn/model_selection/_search.py:952: UserWarning: One or more of the test scores are non-finite: [       nan 0.91571429        nan        nan        nan 0.91714286\n",
            " 0.92142857 0.91857143 0.92142857 0.92142857 0.92142857 0.92\n",
            "        nan        nan        nan        nan        nan        nan\n",
            "        nan 0.91857143        nan        nan        nan 0.91857143\n",
            " 0.91857143 0.91857143 0.91857143 0.91857143 0.91857143 0.91857143\n",
            "        nan        nan        nan        nan        nan        nan\n",
            "        nan 0.92              nan        nan        nan 0.92\n",
            " 0.91857143 0.91857143 0.91857143 0.91857143 0.91857143 0.91857143\n",
            "        nan        nan        nan        nan        nan        nan\n",
            "        nan 0.91571429        nan        nan        nan 0.91857143\n",
            " 0.92       0.91857143 0.92       0.92       0.92       0.92\n",
            "        nan        nan        nan        nan        nan        nan\n",
            "        nan 0.92              nan        nan        nan 0.92\n",
            " 0.91857143 0.91857143 0.91857143 0.91857143 0.91857143 0.91857143\n",
            "        nan        nan        nan        nan        nan        nan]\n",
            "  warnings.warn(\n"
          ]
        },
        {
          "output_type": "execute_result",
          "data": {
            "text/plain": [
              "GridSearchCV(cv=StratifiedKFold(n_splits=5, random_state=None, shuffle=False),\n",
              "             estimator=LogisticRegression(),\n",
              "             param_grid={'C': [1.0, 2.0, 3.0, 1.5, 2.5],\n",
              "                         'penalty': ['l1', 'l2', 'elasticnet'],\n",
              "                         'solver': ['lbfgs', 'liblinear', 'newton-cg',\n",
              "                                    'newton-cholesky', 'sag', 'saga']},\n",
              "             scoring='accuracy')"
            ],
            "text/html": [
              "<style>#sk-container-id-5 {color: black;background-color: white;}#sk-container-id-5 pre{padding: 0;}#sk-container-id-5 div.sk-toggleable {background-color: white;}#sk-container-id-5 label.sk-toggleable__label {cursor: pointer;display: block;width: 100%;margin-bottom: 0;padding: 0.3em;box-sizing: border-box;text-align: center;}#sk-container-id-5 label.sk-toggleable__label-arrow:before {content: \"▸\";float: left;margin-right: 0.25em;color: #696969;}#sk-container-id-5 label.sk-toggleable__label-arrow:hover:before {color: black;}#sk-container-id-5 div.sk-estimator:hover label.sk-toggleable__label-arrow:before {color: black;}#sk-container-id-5 div.sk-toggleable__content {max-height: 0;max-width: 0;overflow: hidden;text-align: left;background-color: #f0f8ff;}#sk-container-id-5 div.sk-toggleable__content pre {margin: 0.2em;color: black;border-radius: 0.25em;background-color: #f0f8ff;}#sk-container-id-5 input.sk-toggleable__control:checked~div.sk-toggleable__content {max-height: 200px;max-width: 100%;overflow: auto;}#sk-container-id-5 input.sk-toggleable__control:checked~label.sk-toggleable__label-arrow:before {content: \"▾\";}#sk-container-id-5 div.sk-estimator input.sk-toggleable__control:checked~label.sk-toggleable__label {background-color: #d4ebff;}#sk-container-id-5 div.sk-label input.sk-toggleable__control:checked~label.sk-toggleable__label {background-color: #d4ebff;}#sk-container-id-5 input.sk-hidden--visually {border: 0;clip: rect(1px 1px 1px 1px);clip: rect(1px, 1px, 1px, 1px);height: 1px;margin: -1px;overflow: hidden;padding: 0;position: absolute;width: 1px;}#sk-container-id-5 div.sk-estimator {font-family: monospace;background-color: #f0f8ff;border: 1px dotted black;border-radius: 0.25em;box-sizing: border-box;margin-bottom: 0.5em;}#sk-container-id-5 div.sk-estimator:hover {background-color: #d4ebff;}#sk-container-id-5 div.sk-parallel-item::after {content: \"\";width: 100%;border-bottom: 1px solid gray;flex-grow: 1;}#sk-container-id-5 div.sk-label:hover label.sk-toggleable__label {background-color: #d4ebff;}#sk-container-id-5 div.sk-serial::before {content: \"\";position: absolute;border-left: 1px solid gray;box-sizing: border-box;top: 0;bottom: 0;left: 50%;z-index: 0;}#sk-container-id-5 div.sk-serial {display: flex;flex-direction: column;align-items: center;background-color: white;padding-right: 0.2em;padding-left: 0.2em;position: relative;}#sk-container-id-5 div.sk-item {position: relative;z-index: 1;}#sk-container-id-5 div.sk-parallel {display: flex;align-items: stretch;justify-content: center;background-color: white;position: relative;}#sk-container-id-5 div.sk-item::before, #sk-container-id-5 div.sk-parallel-item::before {content: \"\";position: absolute;border-left: 1px solid gray;box-sizing: border-box;top: 0;bottom: 0;left: 50%;z-index: -1;}#sk-container-id-5 div.sk-parallel-item {display: flex;flex-direction: column;z-index: 1;position: relative;background-color: white;}#sk-container-id-5 div.sk-parallel-item:first-child::after {align-self: flex-end;width: 50%;}#sk-container-id-5 div.sk-parallel-item:last-child::after {align-self: flex-start;width: 50%;}#sk-container-id-5 div.sk-parallel-item:only-child::after {width: 0;}#sk-container-id-5 div.sk-dashed-wrapped {border: 1px dashed gray;margin: 0 0.4em 0.5em 0.4em;box-sizing: border-box;padding-bottom: 0.4em;background-color: white;}#sk-container-id-5 div.sk-label label {font-family: monospace;font-weight: bold;display: inline-block;line-height: 1.2em;}#sk-container-id-5 div.sk-label-container {text-align: center;}#sk-container-id-5 div.sk-container {/* jupyter's `normalize.less` sets `[hidden] { display: none; }` but bootstrap.min.css set `[hidden] { display: none !important; }` so we also need the `!important` here to be able to override the default hidden behavior on the sphinx rendered scikit-learn.org. See: https://github.com/scikit-learn/scikit-learn/issues/21755 */display: inline-block !important;position: relative;}#sk-container-id-5 div.sk-text-repr-fallback {display: none;}</style><div id=\"sk-container-id-5\" class=\"sk-top-container\"><div class=\"sk-text-repr-fallback\"><pre>GridSearchCV(cv=StratifiedKFold(n_splits=5, random_state=None, shuffle=False),\n",
              "             estimator=LogisticRegression(),\n",
              "             param_grid={&#x27;C&#x27;: [1.0, 2.0, 3.0, 1.5, 2.5],\n",
              "                         &#x27;penalty&#x27;: [&#x27;l1&#x27;, &#x27;l2&#x27;, &#x27;elasticnet&#x27;],\n",
              "                         &#x27;solver&#x27;: [&#x27;lbfgs&#x27;, &#x27;liblinear&#x27;, &#x27;newton-cg&#x27;,\n",
              "                                    &#x27;newton-cholesky&#x27;, &#x27;sag&#x27;, &#x27;saga&#x27;]},\n",
              "             scoring=&#x27;accuracy&#x27;)</pre><b>In a Jupyter environment, please rerun this cell to show the HTML representation or trust the notebook. <br />On GitHub, the HTML representation is unable to render, please try loading this page with nbviewer.org.</b></div><div class=\"sk-container\" hidden><div class=\"sk-item sk-dashed-wrapped\"><div class=\"sk-label-container\"><div class=\"sk-label sk-toggleable\"><input class=\"sk-toggleable__control sk-hidden--visually\" id=\"sk-estimator-id-11\" type=\"checkbox\" ><label for=\"sk-estimator-id-11\" class=\"sk-toggleable__label sk-toggleable__label-arrow\">GridSearchCV</label><div class=\"sk-toggleable__content\"><pre>GridSearchCV(cv=StratifiedKFold(n_splits=5, random_state=None, shuffle=False),\n",
              "             estimator=LogisticRegression(),\n",
              "             param_grid={&#x27;C&#x27;: [1.0, 2.0, 3.0, 1.5, 2.5],\n",
              "                         &#x27;penalty&#x27;: [&#x27;l1&#x27;, &#x27;l2&#x27;, &#x27;elasticnet&#x27;],\n",
              "                         &#x27;solver&#x27;: [&#x27;lbfgs&#x27;, &#x27;liblinear&#x27;, &#x27;newton-cg&#x27;,\n",
              "                                    &#x27;newton-cholesky&#x27;, &#x27;sag&#x27;, &#x27;saga&#x27;]},\n",
              "             scoring=&#x27;accuracy&#x27;)</pre></div></div></div><div class=\"sk-parallel\"><div class=\"sk-parallel-item\"><div class=\"sk-item\"><div class=\"sk-label-container\"><div class=\"sk-label sk-toggleable\"><input class=\"sk-toggleable__control sk-hidden--visually\" id=\"sk-estimator-id-12\" type=\"checkbox\" ><label for=\"sk-estimator-id-12\" class=\"sk-toggleable__label sk-toggleable__label-arrow\">estimator: LogisticRegression</label><div class=\"sk-toggleable__content\"><pre>LogisticRegression()</pre></div></div></div><div class=\"sk-serial\"><div class=\"sk-item\"><div class=\"sk-estimator sk-toggleable\"><input class=\"sk-toggleable__control sk-hidden--visually\" id=\"sk-estimator-id-13\" type=\"checkbox\" ><label for=\"sk-estimator-id-13\" class=\"sk-toggleable__label sk-toggleable__label-arrow\">LogisticRegression</label><div class=\"sk-toggleable__content\"><pre>LogisticRegression()</pre></div></div></div></div></div></div></div></div></div></div>"
            ]
          },
          "metadata": {},
          "execution_count": 55
        }
      ]
    },
    {
      "cell_type": "code",
      "source": [
        "gridsearch.best_params_"
      ],
      "metadata": {
        "colab": {
          "base_uri": "https://localhost:8080/"
        },
        "id": "Gctib6XOWzZ5",
        "outputId": "fadb5ee1-21ba-438d-e850-bb50a08bce30"
      },
      "execution_count": 56,
      "outputs": [
        {
          "output_type": "execute_result",
          "data": {
            "text/plain": [
              "{'C': 1.0, 'penalty': 'l2', 'solver': 'lbfgs'}"
            ]
          },
          "metadata": {},
          "execution_count": 56
        }
      ]
    },
    {
      "cell_type": "code",
      "source": [
        "gridsearch.best_score_"
      ],
      "metadata": {
        "colab": {
          "base_uri": "https://localhost:8080/"
        },
        "id": "Mu1fN2KFYgUn",
        "outputId": "16f4af6d-391a-43fe-a410-dea1e97902c3"
      },
      "execution_count": 57,
      "outputs": [
        {
          "output_type": "execute_result",
          "data": {
            "text/plain": [
              "0.9214285714285714"
            ]
          },
          "metadata": {},
          "execution_count": 57
        }
      ]
    },
    {
      "cell_type": "code",
      "source": [
        "y_pred = gridsearch.predict(X_test)"
      ],
      "metadata": {
        "id": "wpnbtLaEZPRg"
      },
      "execution_count": 62,
      "outputs": []
    },
    {
      "cell_type": "code",
      "source": [
        "from sklearn.metrics import accuracy_score,classification_report\n",
        "\n",
        "accuracy = accuracy_score(y_pred, y_test)\n",
        "classification = classification_report(y_test,y_pred)"
      ],
      "metadata": {
        "id": "nirzDSlkYjbY"
      },
      "execution_count": 71,
      "outputs": []
    },
    {
      "cell_type": "code",
      "source": [
        "print(accuracy)\n",
        "print(classification)"
      ],
      "metadata": {
        "colab": {
          "base_uri": "https://localhost:8080/"
        },
        "id": "fCrl6GAmZ58Q",
        "outputId": "7217dfc8-3240-4513-8453-a544dbed2d1f"
      },
      "execution_count": 70,
      "outputs": [
        {
          "output_type": "stream",
          "name": "stdout",
          "text": [
            "0.89\n",
            "              precision    recall  f1-score   support\n",
            "\n",
            "           0       0.84      0.94      0.89       140\n",
            "           1       0.94      0.84      0.89       160\n",
            "\n",
            "    accuracy                           0.89       300\n",
            "   macro avg       0.89      0.89      0.89       300\n",
            "weighted avg       0.90      0.89      0.89       300\n",
            "\n",
            "[[132   8]\n",
            " [ 25 135]]\n"
          ]
        }
      ]
    },
    {
      "cell_type": "code",
      "source": [],
      "metadata": {
        "id": "kMP2HFRvaN14"
      },
      "execution_count": null,
      "outputs": []
    }
  ]
}